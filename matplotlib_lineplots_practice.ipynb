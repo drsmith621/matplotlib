{
 "cells": [
  {
   "cell_type": "code",
   "execution_count": 1,
   "metadata": {},
   "outputs": [],
   "source": [
    "import matplotlib.pyplot as plt\n",
    "import numpy as np\n",
    "import pandas as pd"
   ]
  },
  {
   "cell_type": "code",
   "execution_count": 2,
   "metadata": {},
   "outputs": [],
   "source": [
    "%matplotlib inline"
   ]
  },
  {
   "cell_type": "code",
   "execution_count": 3,
   "metadata": {},
   "outputs": [],
   "source": [
    "ddcFile = '/spare11/atm533/data/ddc.csv'\n",
    "denFile = '/spare11/atm533/data/den.csv'\n",
    "fcsFile = '/spare11/atm533/data/fcs.csv'\n",
    "okcFile = '/spare11/atm533/data/okc.csv'\n",
    "\n",
    "ddcData = pd.read_fwf(ddcFile)\n",
    "denData = pd.read_fwf(denFile)\n",
    "fcsData = pd.read_fwf(fcsFile)\n",
    "okcData = pd.read_fwf(okcFile)"
   ]
  },
  {
   "cell_type": "code",
   "execution_count": 4,
   "metadata": {},
   "outputs": [
    {
     "data": {
      "text/html": [
       "<div>\n",
       "<style scoped>\n",
       "    .dataframe tbody tr th:only-of-type {\n",
       "        vertical-align: middle;\n",
       "    }\n",
       "\n",
       "    .dataframe tbody tr th {\n",
       "        vertical-align: top;\n",
       "    }\n",
       "\n",
       "    .dataframe thead th {\n",
       "        text-align: right;\n",
       "    }\n",
       "</style>\n",
       "<table border=\"1\" class=\"dataframe\">\n",
       "  <thead>\n",
       "    <tr style=\"text-align: right;\">\n",
       "      <th></th>\n",
       "      <th>STN</th>\n",
       "      <th>YYMMDD/HHMM</th>\n",
       "      <th>TMPC</th>\n",
       "      <th>DWPC</th>\n",
       "      <th>PMSL</th>\n",
       "    </tr>\n",
       "  </thead>\n",
       "  <tbody>\n",
       "    <tr>\n",
       "      <th>0</th>\n",
       "      <td>DDC</td>\n",
       "      <td>200908/0000</td>\n",
       "      <td>32.2</td>\n",
       "      <td>11.1</td>\n",
       "      <td>1001.7</td>\n",
       "    </tr>\n",
       "    <tr>\n",
       "      <th>1</th>\n",
       "      <td>DDC</td>\n",
       "      <td>200908/0100</td>\n",
       "      <td>30.6</td>\n",
       "      <td>10.6</td>\n",
       "      <td>1001.8</td>\n",
       "    </tr>\n",
       "    <tr>\n",
       "      <th>2</th>\n",
       "      <td>DDC</td>\n",
       "      <td>200908/0200</td>\n",
       "      <td>25.0</td>\n",
       "      <td>12.2</td>\n",
       "      <td>1003.0</td>\n",
       "    </tr>\n",
       "    <tr>\n",
       "      <th>3</th>\n",
       "      <td>DDC</td>\n",
       "      <td>200908/0300</td>\n",
       "      <td>23.3</td>\n",
       "      <td>12.8</td>\n",
       "      <td>1003.8</td>\n",
       "    </tr>\n",
       "    <tr>\n",
       "      <th>4</th>\n",
       "      <td>DDC</td>\n",
       "      <td>200908/0400</td>\n",
       "      <td>20.6</td>\n",
       "      <td>14.4</td>\n",
       "      <td>1004.7</td>\n",
       "    </tr>\n",
       "    <tr>\n",
       "      <th>5</th>\n",
       "      <td>DDC</td>\n",
       "      <td>200908/0500</td>\n",
       "      <td>18.3</td>\n",
       "      <td>12.2</td>\n",
       "      <td>1005.1</td>\n",
       "    </tr>\n",
       "    <tr>\n",
       "      <th>6</th>\n",
       "      <td>DDC</td>\n",
       "      <td>200908/0600</td>\n",
       "      <td>17.2</td>\n",
       "      <td>11.7</td>\n",
       "      <td>1005.2</td>\n",
       "    </tr>\n",
       "    <tr>\n",
       "      <th>7</th>\n",
       "      <td>DDC</td>\n",
       "      <td>200908/0700</td>\n",
       "      <td>16.7</td>\n",
       "      <td>10.6</td>\n",
       "      <td>1005.2</td>\n",
       "    </tr>\n",
       "    <tr>\n",
       "      <th>8</th>\n",
       "      <td>DDC</td>\n",
       "      <td>200908/0800</td>\n",
       "      <td>16.1</td>\n",
       "      <td>9.4</td>\n",
       "      <td>1005.6</td>\n",
       "    </tr>\n",
       "    <tr>\n",
       "      <th>9</th>\n",
       "      <td>DDC</td>\n",
       "      <td>200908/0900</td>\n",
       "      <td>15.6</td>\n",
       "      <td>7.2</td>\n",
       "      <td>1005.7</td>\n",
       "    </tr>\n",
       "    <tr>\n",
       "      <th>10</th>\n",
       "      <td>DDC</td>\n",
       "      <td>200908/1000</td>\n",
       "      <td>12.8</td>\n",
       "      <td>7.2</td>\n",
       "      <td>1007.7</td>\n",
       "    </tr>\n",
       "    <tr>\n",
       "      <th>11</th>\n",
       "      <td>DDC</td>\n",
       "      <td>200908/1100</td>\n",
       "      <td>12.2</td>\n",
       "      <td>7.8</td>\n",
       "      <td>1008.8</td>\n",
       "    </tr>\n",
       "    <tr>\n",
       "      <th>12</th>\n",
       "      <td>DDC</td>\n",
       "      <td>200908/1200</td>\n",
       "      <td>11.1</td>\n",
       "      <td>7.2</td>\n",
       "      <td>1010.2</td>\n",
       "    </tr>\n",
       "    <tr>\n",
       "      <th>13</th>\n",
       "      <td>DDC</td>\n",
       "      <td>200908/1300</td>\n",
       "      <td>11.1</td>\n",
       "      <td>7.8</td>\n",
       "      <td>1011.9</td>\n",
       "    </tr>\n",
       "    <tr>\n",
       "      <th>14</th>\n",
       "      <td>DDC</td>\n",
       "      <td>200908/1400</td>\n",
       "      <td>8.9</td>\n",
       "      <td>7.2</td>\n",
       "      <td>1013.0</td>\n",
       "    </tr>\n",
       "    <tr>\n",
       "      <th>15</th>\n",
       "      <td>DDC</td>\n",
       "      <td>200908/1500</td>\n",
       "      <td>8.3</td>\n",
       "      <td>6.7</td>\n",
       "      <td>1014.9</td>\n",
       "    </tr>\n",
       "    <tr>\n",
       "      <th>16</th>\n",
       "      <td>DDC</td>\n",
       "      <td>200908/1600</td>\n",
       "      <td>7.8</td>\n",
       "      <td>6.7</td>\n",
       "      <td>1016.7</td>\n",
       "    </tr>\n",
       "    <tr>\n",
       "      <th>17</th>\n",
       "      <td>DDC</td>\n",
       "      <td>200908/1700</td>\n",
       "      <td>8.3</td>\n",
       "      <td>6.7</td>\n",
       "      <td>1017.1</td>\n",
       "    </tr>\n",
       "    <tr>\n",
       "      <th>18</th>\n",
       "      <td>DDC</td>\n",
       "      <td>200908/1800</td>\n",
       "      <td>8.3</td>\n",
       "      <td>6.7</td>\n",
       "      <td>1017.8</td>\n",
       "    </tr>\n",
       "    <tr>\n",
       "      <th>19</th>\n",
       "      <td>DDC</td>\n",
       "      <td>200908/1900</td>\n",
       "      <td>8.3</td>\n",
       "      <td>7.2</td>\n",
       "      <td>1018.2</td>\n",
       "    </tr>\n",
       "    <tr>\n",
       "      <th>20</th>\n",
       "      <td>DDC</td>\n",
       "      <td>200908/2000</td>\n",
       "      <td>8.3</td>\n",
       "      <td>7.2</td>\n",
       "      <td>1018.7</td>\n",
       "    </tr>\n",
       "    <tr>\n",
       "      <th>21</th>\n",
       "      <td>DDC</td>\n",
       "      <td>200908/2100</td>\n",
       "      <td>7.2</td>\n",
       "      <td>6.1</td>\n",
       "      <td>1018.5</td>\n",
       "    </tr>\n",
       "    <tr>\n",
       "      <th>22</th>\n",
       "      <td>DDC</td>\n",
       "      <td>200908/2200</td>\n",
       "      <td>6.7</td>\n",
       "      <td>5.0</td>\n",
       "      <td>1019.3</td>\n",
       "    </tr>\n",
       "    <tr>\n",
       "      <th>23</th>\n",
       "      <td>DDC</td>\n",
       "      <td>200908/2300</td>\n",
       "      <td>6.1</td>\n",
       "      <td>5.0</td>\n",
       "      <td>1019.5</td>\n",
       "    </tr>\n",
       "  </tbody>\n",
       "</table>\n",
       "</div>"
      ],
      "text/plain": [
       "    STN  YYMMDD/HHMM  TMPC  DWPC    PMSL\n",
       "0   DDC  200908/0000  32.2  11.1  1001.7\n",
       "1   DDC  200908/0100  30.6  10.6  1001.8\n",
       "2   DDC  200908/0200  25.0  12.2  1003.0\n",
       "3   DDC  200908/0300  23.3  12.8  1003.8\n",
       "4   DDC  200908/0400  20.6  14.4  1004.7\n",
       "5   DDC  200908/0500  18.3  12.2  1005.1\n",
       "6   DDC  200908/0600  17.2  11.7  1005.2\n",
       "7   DDC  200908/0700  16.7  10.6  1005.2\n",
       "8   DDC  200908/0800  16.1   9.4  1005.6\n",
       "9   DDC  200908/0900  15.6   7.2  1005.7\n",
       "10  DDC  200908/1000  12.8   7.2  1007.7\n",
       "11  DDC  200908/1100  12.2   7.8  1008.8\n",
       "12  DDC  200908/1200  11.1   7.2  1010.2\n",
       "13  DDC  200908/1300  11.1   7.8  1011.9\n",
       "14  DDC  200908/1400   8.9   7.2  1013.0\n",
       "15  DDC  200908/1500   8.3   6.7  1014.9\n",
       "16  DDC  200908/1600   7.8   6.7  1016.7\n",
       "17  DDC  200908/1700   8.3   6.7  1017.1\n",
       "18  DDC  200908/1800   8.3   6.7  1017.8\n",
       "19  DDC  200908/1900   8.3   7.2  1018.2\n",
       "20  DDC  200908/2000   8.3   7.2  1018.7\n",
       "21  DDC  200908/2100   7.2   6.1  1018.5\n",
       "22  DDC  200908/2200   6.7   5.0  1019.3\n",
       "23  DDC  200908/2300   6.1   5.0  1019.5"
      ]
     },
     "execution_count": 4,
     "metadata": {},
     "output_type": "execute_result"
    }
   ],
   "source": [
    "ddcData"
   ]
  },
  {
   "cell_type": "code",
   "execution_count": 5,
   "metadata": {},
   "outputs": [
    {
     "data": {
      "text/plain": [
       "array([ 0,  1,  2,  3,  4,  5,  6,  7,  8,  9, 10, 11, 12, 13, 14, 15, 16,\n",
       "       17, 18, 19, 20, 21, 22, 23])"
      ]
     },
     "execution_count": 5,
     "metadata": {},
     "output_type": "execute_result"
    }
   ],
   "source": [
    "hours = ddcData.index.values\n",
    "hours"
   ]
  },
  {
   "cell_type": "code",
   "execution_count": 7,
   "metadata": {},
   "outputs": [],
   "source": [
    "ddcTemp = ddcData.TMPC\n",
    "denTemp = denData.TMPC\n",
    "fcsTemp = fcsData.TMPC\n",
    "okcTemp = okcData.TMPC"
   ]
  },
  {
   "cell_type": "code",
   "execution_count": 8,
   "metadata": {},
   "outputs": [],
   "source": [
    "ddcDwpt = ddcData.DWPC\n",
    "denDwpt = denData.DWPC\n",
    "fcsDwpt = fcsData.DWPC\n",
    "okcDwpt = okcData.DWPC"
   ]
  },
  {
   "cell_type": "code",
   "execution_count": 9,
   "metadata": {},
   "outputs": [
    {
     "data": {
      "text/plain": [
       "0     11.1\n",
       "1     10.6\n",
       "2     12.2\n",
       "3     12.8\n",
       "4     14.4\n",
       "5     12.2\n",
       "6     11.7\n",
       "7     10.6\n",
       "8      9.4\n",
       "9      7.2\n",
       "10     7.2\n",
       "11     7.8\n",
       "12     7.2\n",
       "13     7.8\n",
       "14     7.2\n",
       "15     6.7\n",
       "16     6.7\n",
       "17     6.7\n",
       "18     6.7\n",
       "19     7.2\n",
       "20     7.2\n",
       "21     6.1\n",
       "22     5.0\n",
       "23     5.0\n",
       "Name: DWPC, dtype: float64"
      ]
     },
     "execution_count": 9,
     "metadata": {},
     "output_type": "execute_result"
    }
   ],
   "source": [
    "ddcDwpt"
   ]
  },
  {
   "cell_type": "code",
   "execution_count": 11,
   "metadata": {},
   "outputs": [
    {
     "data": {
      "text/plain": [
       "[<matplotlib.lines.Line2D at 0x7fe1af7f5c50>]"
      ]
     },
     "execution_count": 11,
     "metadata": {},
     "output_type": "execute_result"
    },
    {
     "data": {
      "image/png": "[encoded data removed]",
      "text/plain": [
       "<Figure size 792x612 with 1 Axes>"
      ]
     },
     "metadata": {
      "needs_background": "light"
     },
     "output_type": "display_data"
    }
   ],
   "source": [
    "fig = plt.figure(figsize=(11,8.5))\n",
    "ax =fig.add_subplot(1,1,1)\n",
    "ax.set_xlabel('Hour (UTC)')\n",
    "ax.set_ylabel('Temperature ($^\\circ$C)')\n",
    "ax.set_title(\"Denver Hourly Temperatures, 8 Sep 2020\")\n",
    "ax.plot (denTemp)"
   ]
  },
  {
   "cell_type": "code",
   "execution_count": null,
   "metadata": {},
   "outputs": [],
   "source": []
  }
 ],
 "metadata": {
  "kernelspec": {
   "display_name": "Python 3 June 2020 Environment",
   "language": "python",
   "name": "jun20"
  },
  "language_info": {
   "codemirror_mode": {
    "name": "ipython",
    "version": 3
   },
   "file_extension": ".py",
   "mimetype": "text/x-python",
   "name": "python",
   "nbconvert_exporter": "python",
   "pygments_lexer": "ipython3",
   "version": "3.7.6"
  }
 },
 "nbformat": 4,
 "nbformat_minor": 2
}
